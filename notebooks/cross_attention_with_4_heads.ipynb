{
 "cells": [
  {
   "cell_type": "code",
   "execution_count": 1,
   "metadata": {
    "colab": {
     "base_uri": "https://localhost:8080/"
    },
    "id": "nXRPF7T0b-QZ",
    "outputId": "821fc7ca-79e6-4cf6-e81d-37fd685b71f3",
    "tags": []
   },
   "outputs": [
    {
     "name": "stdout",
     "output_type": "stream",
     "text": [
      "Requirement already satisfied: spafe in /home/ashutosh/Desktop/ugmqa_project/venv/lib/python3.8/site-packages (0.3.2)\n",
      "Requirement already satisfied: pandas in /home/ashutosh/Desktop/ugmqa_project/venv/lib/python3.8/site-packages (2.0.3)\n",
      "Requirement already satisfied: tensorflow in /home/ashutosh/Desktop/ugmqa_project/venv/lib/python3.8/site-packages (2.13.1)\n",
      "Requirement already satisfied: seaborn in /home/ashutosh/Desktop/ugmqa_project/venv/lib/python3.8/site-packages (0.13.0)\n",
      "Requirement already satisfied: opencv-python in /home/ashutosh/Desktop/ugmqa_project/venv/lib/python3.8/site-packages (4.8.1.78)\n",
      "Requirement already satisfied: tqdm in /home/ashutosh/Desktop/ugmqa_project/venv/lib/python3.8/site-packages (4.66.1)\n",
      "Requirement already satisfied: librosa in /home/ashutosh/Desktop/ugmqa_project/venv/lib/python3.8/site-packages (0.10.1)\n",
      "Requirement already satisfied: typing-extensions in /home/ashutosh/Desktop/ugmqa_project/venv/lib/python3.8/site-packages (from spafe) (4.5.0)\n",
      "Requirement already satisfied: numpy>=1.21 in /home/ashutosh/Desktop/ugmqa_project/venv/lib/python3.8/site-packages (from spafe) (1.24.3)\n",
      "Requirement already satisfied: scipy>=1.7.3 in /home/ashutosh/Desktop/ugmqa_project/venv/lib/python3.8/site-packages (from spafe) (1.10.1)\n",
      "Requirement already satisfied: tzdata>=2022.1 in /home/ashutosh/Desktop/ugmqa_project/venv/lib/python3.8/site-packages (from pandas) (2023.3)\n",
      "Requirement already satisfied: python-dateutil>=2.8.2 in /home/ashutosh/Desktop/ugmqa_project/venv/lib/python3.8/site-packages (from pandas) (2.8.2)\n",
      "Requirement already satisfied: pytz>=2020.1 in /home/ashutosh/Desktop/ugmqa_project/venv/lib/python3.8/site-packages (from pandas) (2023.3.post1)\n",
      "Requirement already satisfied: gast<=0.4.0,>=0.2.1 in /home/ashutosh/Desktop/ugmqa_project/venv/lib/python3.8/site-packages (from tensorflow) (0.4.0)\n",
      "Requirement already satisfied: packaging in /home/ashutosh/Desktop/ugmqa_project/venv/lib/python3.8/site-packages (from tensorflow) (23.2)\n",
      "Requirement already satisfied: h5py>=2.9.0 in /home/ashutosh/Desktop/ugmqa_project/venv/lib/python3.8/site-packages (from tensorflow) (3.10.0)\n",
      "Requirement already satisfied: flatbuffers>=23.1.21 in /home/ashutosh/Desktop/ugmqa_project/venv/lib/python3.8/site-packages (from tensorflow) (23.5.26)\n",
      "Requirement already satisfied: opt-einsum>=2.3.2 in /home/ashutosh/Desktop/ugmqa_project/venv/lib/python3.8/site-packages (from tensorflow) (3.3.0)\n",
      "Requirement already satisfied: tensorflow-io-gcs-filesystem>=0.23.1 in /home/ashutosh/Desktop/ugmqa_project/venv/lib/python3.8/site-packages (from tensorflow) (0.34.0)\n",
      "Requirement already satisfied: setuptools in /home/ashutosh/Desktop/ugmqa_project/venv/lib/python3.8/site-packages (from tensorflow) (56.0.0)\n",
      "Requirement already satisfied: google-pasta>=0.1.1 in /home/ashutosh/Desktop/ugmqa_project/venv/lib/python3.8/site-packages (from tensorflow) (0.2.0)\n",
      "Requirement already satisfied: grpcio<2.0,>=1.24.3 in /home/ashutosh/Desktop/ugmqa_project/venv/lib/python3.8/site-packages (from tensorflow) (1.59.0)\n",
      "Requirement already satisfied: protobuf!=4.21.0,!=4.21.1,!=4.21.2,!=4.21.3,!=4.21.4,!=4.21.5,<5.0.0dev,>=3.20.3 in /home/ashutosh/Desktop/ugmqa_project/venv/lib/python3.8/site-packages (from tensorflow) (4.24.4)\n",
      "Requirement already satisfied: libclang>=13.0.0 in /home/ashutosh/Desktop/ugmqa_project/venv/lib/python3.8/site-packages (from tensorflow) (16.0.6)\n",
      "Requirement already satisfied: six>=1.12.0 in /home/ashutosh/Desktop/ugmqa_project/venv/lib/python3.8/site-packages (from tensorflow) (1.16.0)\n",
      "Requirement already satisfied: absl-py>=1.0.0 in /home/ashutosh/Desktop/ugmqa_project/venv/lib/python3.8/site-packages (from tensorflow) (2.0.0)\n",
      "Requirement already satisfied: wrapt>=1.11.0 in /home/ashutosh/Desktop/ugmqa_project/venv/lib/python3.8/site-packages (from tensorflow) (1.15.0)\n",
      "Requirement already satisfied: astunparse>=1.6.0 in /home/ashutosh/Desktop/ugmqa_project/venv/lib/python3.8/site-packages (from tensorflow) (1.6.3)\n",
      "Requirement already satisfied: tensorflow-estimator<2.14,>=2.13.0 in /home/ashutosh/Desktop/ugmqa_project/venv/lib/python3.8/site-packages (from tensorflow) (2.13.0)\n",
      "Requirement already satisfied: termcolor>=1.1.0 in /home/ashutosh/Desktop/ugmqa_project/venv/lib/python3.8/site-packages (from tensorflow) (2.3.0)\n",
      "Requirement already satisfied: tensorboard<2.14,>=2.13 in /home/ashutosh/Desktop/ugmqa_project/venv/lib/python3.8/site-packages (from tensorflow) (2.13.0)\n",
      "Requirement already satisfied: keras<2.14,>=2.13.1 in /home/ashutosh/Desktop/ugmqa_project/venv/lib/python3.8/site-packages (from tensorflow) (2.13.1)\n",
      "Requirement already satisfied: matplotlib!=3.6.1,>=3.3 in /home/ashutosh/Desktop/ugmqa_project/venv/lib/python3.8/site-packages (from seaborn) (3.7.3)\n",
      "Requirement already satisfied: scikit-learn>=0.20.0 in /home/ashutosh/Desktop/ugmqa_project/venv/lib/python3.8/site-packages (from librosa) (1.3.1)\n",
      "Requirement already satisfied: numba>=0.51.0 in /home/ashutosh/Desktop/ugmqa_project/venv/lib/python3.8/site-packages (from librosa) (0.58.0)\n",
      "Requirement already satisfied: lazy-loader>=0.1 in /home/ashutosh/Desktop/ugmqa_project/venv/lib/python3.8/site-packages (from librosa) (0.3)\n",
      "Requirement already satisfied: pooch>=1.0 in /home/ashutosh/Desktop/ugmqa_project/venv/lib/python3.8/site-packages (from librosa) (1.7.0)\n",
      "Requirement already satisfied: msgpack>=1.0 in /home/ashutosh/Desktop/ugmqa_project/venv/lib/python3.8/site-packages (from librosa) (1.0.7)\n",
      "Requirement already satisfied: soxr>=0.3.2 in /home/ashutosh/Desktop/ugmqa_project/venv/lib/python3.8/site-packages (from librosa) (0.3.7)\n",
      "Requirement already satisfied: decorator>=4.3.0 in /home/ashutosh/Desktop/ugmqa_project/venv/lib/python3.8/site-packages (from librosa) (5.1.1)\n",
      "Requirement already satisfied: joblib>=0.14 in /home/ashutosh/Desktop/ugmqa_project/venv/lib/python3.8/site-packages (from librosa) (1.3.2)\n",
      "Requirement already satisfied: soundfile>=0.12.1 in /home/ashutosh/Desktop/ugmqa_project/venv/lib/python3.8/site-packages (from librosa) (0.12.1)\n",
      "Requirement already satisfied: audioread>=2.1.9 in /home/ashutosh/Desktop/ugmqa_project/venv/lib/python3.8/site-packages (from librosa) (3.0.1)\n",
      "Requirement already satisfied: wheel<1.0,>=0.23.0 in /home/ashutosh/Desktop/ugmqa_project/venv/lib/python3.8/site-packages (from astunparse>=1.6.0->tensorflow) (0.41.2)\n",
      "Requirement already satisfied: pillow>=6.2.0 in /home/ashutosh/Desktop/ugmqa_project/venv/lib/python3.8/site-packages (from matplotlib!=3.6.1,>=3.3->seaborn) (10.0.1)\n",
      "Requirement already satisfied: importlib-resources>=3.2.0 in /home/ashutosh/Desktop/ugmqa_project/venv/lib/python3.8/site-packages (from matplotlib!=3.6.1,>=3.3->seaborn) (6.1.0)\n",
      "Requirement already satisfied: pyparsing>=2.3.1 in /home/ashutosh/Desktop/ugmqa_project/venv/lib/python3.8/site-packages (from matplotlib!=3.6.1,>=3.3->seaborn) (3.1.1)\n",
      "Requirement already satisfied: cycler>=0.10 in /home/ashutosh/Desktop/ugmqa_project/venv/lib/python3.8/site-packages (from matplotlib!=3.6.1,>=3.3->seaborn) (0.12.1)\n",
      "Requirement already satisfied: contourpy>=1.0.1 in /home/ashutosh/Desktop/ugmqa_project/venv/lib/python3.8/site-packages (from matplotlib!=3.6.1,>=3.3->seaborn) (1.1.1)\n",
      "Requirement already satisfied: fonttools>=4.22.0 in /home/ashutosh/Desktop/ugmqa_project/venv/lib/python3.8/site-packages (from matplotlib!=3.6.1,>=3.3->seaborn) (4.43.1)\n",
      "Requirement already satisfied: kiwisolver>=1.0.1 in /home/ashutosh/Desktop/ugmqa_project/venv/lib/python3.8/site-packages (from matplotlib!=3.6.1,>=3.3->seaborn) (1.4.5)\n",
      "Requirement already satisfied: importlib-metadata in /home/ashutosh/Desktop/ugmqa_project/venv/lib/python3.8/site-packages (from numba>=0.51.0->librosa) (6.8.0)\n",
      "Requirement already satisfied: llvmlite<0.42,>=0.41.0dev0 in /home/ashutosh/Desktop/ugmqa_project/venv/lib/python3.8/site-packages (from numba>=0.51.0->librosa) (0.41.0)\n",
      "Requirement already satisfied: platformdirs>=2.5.0 in /home/ashutosh/Desktop/ugmqa_project/venv/lib/python3.8/site-packages (from pooch>=1.0->librosa) (3.11.0)\n",
      "Requirement already satisfied: requests>=2.19.0 in /home/ashutosh/Desktop/ugmqa_project/venv/lib/python3.8/site-packages (from pooch>=1.0->librosa) (2.31.0)\n",
      "Requirement already satisfied: threadpoolctl>=2.0.0 in /home/ashutosh/Desktop/ugmqa_project/venv/lib/python3.8/site-packages (from scikit-learn>=0.20.0->librosa) (3.2.0)\n",
      "Requirement already satisfied: cffi>=1.0 in /home/ashutosh/Desktop/ugmqa_project/venv/lib/python3.8/site-packages (from soundfile>=0.12.1->librosa) (1.16.0)\n",
      "Requirement already satisfied: google-auth-oauthlib<1.1,>=0.5 in /home/ashutosh/Desktop/ugmqa_project/venv/lib/python3.8/site-packages (from tensorboard<2.14,>=2.13->tensorflow) (1.0.0)\n",
      "Requirement already satisfied: markdown>=2.6.8 in /home/ashutosh/Desktop/ugmqa_project/venv/lib/python3.8/site-packages (from tensorboard<2.14,>=2.13->tensorflow) (3.5)\n",
      "Requirement already satisfied: werkzeug>=1.0.1 in /home/ashutosh/Desktop/ugmqa_project/venv/lib/python3.8/site-packages (from tensorboard<2.14,>=2.13->tensorflow) (3.0.0)\n",
      "Requirement already satisfied: google-auth<3,>=1.6.3 in /home/ashutosh/Desktop/ugmqa_project/venv/lib/python3.8/site-packages (from tensorboard<2.14,>=2.13->tensorflow) (2.23.3)\n",
      "Requirement already satisfied: tensorboard-data-server<0.8.0,>=0.7.0 in /home/ashutosh/Desktop/ugmqa_project/venv/lib/python3.8/site-packages (from tensorboard<2.14,>=2.13->tensorflow) (0.7.1)\n",
      "Requirement already satisfied: pycparser in /home/ashutosh/Desktop/ugmqa_project/venv/lib/python3.8/site-packages (from cffi>=1.0->soundfile>=0.12.1->librosa) (2.21)\n",
      "Requirement already satisfied: rsa<5,>=3.1.4 in /home/ashutosh/Desktop/ugmqa_project/venv/lib/python3.8/site-packages (from google-auth<3,>=1.6.3->tensorboard<2.14,>=2.13->tensorflow) (4.9)\n",
      "Requirement already satisfied: cachetools<6.0,>=2.0.0 in /home/ashutosh/Desktop/ugmqa_project/venv/lib/python3.8/site-packages (from google-auth<3,>=1.6.3->tensorboard<2.14,>=2.13->tensorflow) (5.3.1)\n",
      "Requirement already satisfied: pyasn1-modules>=0.2.1 in /home/ashutosh/Desktop/ugmqa_project/venv/lib/python3.8/site-packages (from google-auth<3,>=1.6.3->tensorboard<2.14,>=2.13->tensorflow) (0.3.0)\n",
      "Requirement already satisfied: requests-oauthlib>=0.7.0 in /home/ashutosh/Desktop/ugmqa_project/venv/lib/python3.8/site-packages (from google-auth-oauthlib<1.1,>=0.5->tensorboard<2.14,>=2.13->tensorflow) (1.3.1)\n",
      "Requirement already satisfied: zipp>=3.1.0 in /home/ashutosh/Desktop/ugmqa_project/venv/lib/python3.8/site-packages (from importlib-resources>=3.2.0->matplotlib!=3.6.1,>=3.3->seaborn) (3.17.0)\n",
      "Requirement already satisfied: idna<4,>=2.5 in /home/ashutosh/Desktop/ugmqa_project/venv/lib/python3.8/site-packages (from requests>=2.19.0->pooch>=1.0->librosa) (3.4)\n",
      "Requirement already satisfied: urllib3<3,>=1.21.1 in /home/ashutosh/Desktop/ugmqa_project/venv/lib/python3.8/site-packages (from requests>=2.19.0->pooch>=1.0->librosa) (2.0.6)\n",
      "Requirement already satisfied: certifi>=2017.4.17 in /home/ashutosh/Desktop/ugmqa_project/venv/lib/python3.8/site-packages (from requests>=2.19.0->pooch>=1.0->librosa) (2023.7.22)\n",
      "Requirement already satisfied: charset-normalizer<4,>=2 in /home/ashutosh/Desktop/ugmqa_project/venv/lib/python3.8/site-packages (from requests>=2.19.0->pooch>=1.0->librosa) (3.3.0)\n",
      "Requirement already satisfied: MarkupSafe>=2.1.1 in /home/ashutosh/Desktop/ugmqa_project/venv/lib/python3.8/site-packages (from werkzeug>=1.0.1->tensorboard<2.14,>=2.13->tensorflow) (2.1.3)\n",
      "Requirement already satisfied: pyasn1<0.6.0,>=0.4.6 in /home/ashutosh/Desktop/ugmqa_project/venv/lib/python3.8/site-packages (from pyasn1-modules>=0.2.1->google-auth<3,>=1.6.3->tensorboard<2.14,>=2.13->tensorflow) (0.5.0)\n",
      "Requirement already satisfied: oauthlib>=3.0.0 in /home/ashutosh/Desktop/ugmqa_project/venv/lib/python3.8/site-packages (from requests-oauthlib>=0.7.0->google-auth-oauthlib<1.1,>=0.5->tensorboard<2.14,>=2.13->tensorflow) (3.2.2)\n",
      "\u001b[33mWARNING: You are using pip version 22.0.4; however, version 23.2.1 is available.\n",
      "You should consider upgrading via the '/home/ashutosh/Desktop/ugmqa_project/venv/bin/python -m pip install --upgrade pip' command.\u001b[0m\u001b[33m\n",
      "\u001b[0m"
     ]
    }
   ],
   "source": [
    "#run\n",
    "!pip install spafe pandas tensorflow seaborn opencv-python tqdm librosa\n"
   ]
  },
  {
   "cell_type": "code",
   "execution_count": 2,
   "metadata": {
    "id": "s2K5aSHYb-Sm",
    "tags": []
   },
   "outputs": [],
   "source": [
    "#run\n",
    "import pandas as pd\n",
    "import os\n",
    "import librosa\n",
    "import librosa.display\n",
    "import numpy as np\n",
    "import IPython.display as ipd\n",
    "import matplotlib.pyplot as plt\n",
    "%matplotlib inline\n",
    "\n",
    "from collections import defaultdict\n",
    "from spafe.utils import vis\n",
    "from spafe.features.lfcc import lfcc"
   ]
  },
  {
   "cell_type": "code",
   "execution_count": 3,
   "metadata": {
    "id": "-xNIFhPtb-U5",
    "tags": []
   },
   "outputs": [
    {
     "name": "stderr",
     "output_type": "stream",
     "text": [
      "2023-10-15 22:40:03.644195: I tensorflow/core/platform/cpu_feature_guard.cc:182] This TensorFlow binary is optimized to use available CPU instructions in performance-critical operations.\n",
      "To enable the following instructions: AVX2 FMA, in other operations, rebuild TensorFlow with the appropriate compiler flags.\n"
     ]
    }
   ],
   "source": [
    "#run\n",
    "from tensorflow.keras.utils import to_categorical\n",
    "import tensorflow as tf\n",
    "from tensorflow.keras.models import Sequential\n",
    "from tensorflow.keras.layers import Dense,Dropout,Activation,Flatten\n",
    "from tensorflow.keras.optimizers import Adam, RMSprop, SGD\n",
    "from sklearn import metrics\n",
    "from tensorflow.keras.callbacks import ModelCheckpoint\n",
    "from datetime import datetime\n",
    "from sklearn.model_selection import train_test_split\n",
    "from sklearn.model_selection import KFold\n",
    "from sklearn.metrics import accuracy_score\n",
    "from sklearn.preprocessing import LabelEncoder"
   ]
  },
  {
   "cell_type": "code",
   "execution_count": 4,
   "metadata": {
    "id": "QgbvNKYAb-YM",
    "tags": []
   },
   "outputs": [],
   "source": [
    "#run\n",
    "import pandas as pd\n",
    "import numpy as np\n",
    "import os.path\n",
    "import matplotlib.pyplot as plt\n",
    "import seaborn as sns\n",
    "import gc\n",
    "\n",
    "from PIL import Image\n",
    "\n",
    "%matplotlib inline\n",
    "from tensorflow import keras\n",
    "from tensorflow.keras.applications import ResNet50,ResNet101\n",
    "import cv2\n",
    "from tqdm import tqdm\n",
    "from tensorflow.keras.models import Sequential\n",
    "from tensorflow.keras.layers import Dense, Dropout, Flatten\n",
    "from tensorflow.keras.callbacks import EarlyStopping, ModelCheckpoint\n",
    "from tensorflow.keras import backend as K\n",
    "from tensorflow.keras import applications\n",
    "from tensorflow.keras.models import Model\n",
    "from tensorflow.keras import optimizers\n",
    "from tensorflow.keras.utils import to_categorical\n",
    "from tensorflow.keras.preprocessing.image import ImageDataGenerator\n",
    "from tensorflow.keras.callbacks import EarlyStopping\n",
    "from tensorflow.keras.preprocessing import image\n",
    "from sklearn.model_selection import StratifiedKFold , KFold ,RepeatedKFold\n",
    "from sklearn.model_selection import train_test_split\n",
    "from sklearn.preprocessing import LabelEncoder\n",
    "from sklearn.metrics import accuracy_score"
   ]
  },
  {
   "cell_type": "code",
   "execution_count": 5,
   "metadata": {
    "id": "LXsQV7ivcIcc",
    "tags": []
   },
   "outputs": [],
   "source": [
    "#run\n",
    "def scaled_dot_product_attention(query, key, value, mask):\n",
    "  matmul_qk = tf.matmul(query, key, transpose_b=True)\n",
    "\n",
    "  depth = tf.cast(tf.shape(key)[-1], tf.float32)\n",
    "  logits = matmul_qk / tf.math.sqrt(depth)\n",
    "\n",
    "  # add the mask zero out padding tokens.\n",
    "  if mask is not None:\n",
    "    logits += (mask * -1e9)\n",
    "\n",
    "  attention_weights = tf.nn.softmax(logits, axis=-1)\n",
    "\n",
    "  return tf.matmul(attention_weights, value)"
   ]
  },
  {
   "cell_type": "code",
   "execution_count": 6,
   "metadata": {
    "id": "7WB2_09_e-qt",
    "tags": []
   },
   "outputs": [],
   "source": [
    "#run\n",
    "# This allows to the transformer to know where there is real data and where it is padded\n",
    "def create_padding_mask(seq):\n",
    "  seq = tf.cast(tf.math.equal(seq, 0), tf.float32)\n",
    "\n",
    "  # add extra dimensions to add the padding\n",
    "  # to the attention logits.\n",
    "  return seq[:, tf.newaxis, tf.newaxis, :]  # (batch_size, 1, 1, seq_len)"
   ]
  },
  {
   "cell_type": "code",
   "execution_count": 7,
   "metadata": {
    "id": "PjEQIR8TcIe3",
    "tags": []
   },
   "outputs": [],
   "source": [
    "#run\n",
    "class MultiHeadAttention(tf.keras.layers.Layer):\n",
    "\n",
    "  def __init__(self, d_model, num_heads, name=\"multi_head_attention\"):\n",
    "    super(MultiHeadAttention, self).__init__(name=name)\n",
    "    self.num_heads = num_heads\n",
    "    self.d_model = d_model\n",
    "\n",
    "    assert d_model % self.num_heads == 0\n",
    "\n",
    "    self.depth = d_model // self.num_heads\n",
    "\n",
    "    self.query_dense = tf.keras.layers.Dense(units=d_model)\n",
    "    self.key_dense = tf.keras.layers.Dense(units=d_model)\n",
    "    self.value_dense = tf.keras.layers.Dense(units=d_model)\n",
    "\n",
    "    self.dense = tf.keras.layers.Dense(units=d_model)\n",
    "\n",
    "  def split_heads(self, inputs, batch_size):\n",
    "    inputs = tf.reshape(\n",
    "        inputs, shape=(batch_size, -1, self.num_heads, self.depth))\n",
    "    return tf.transpose(inputs, perm=[0, 2, 1, 3])\n",
    "\n",
    "  def call(self, inputs):\n",
    "    query, key, value, mask = inputs['query'], inputs['key'], inputs[\n",
    "        'value'], inputs['mask']\n",
    "    batch_size = tf.shape(query)[0]\n",
    "\n",
    "    # linear layers\n",
    "    query = self.query_dense(query)\n",
    "    key = self.key_dense(key)\n",
    "    value = self.value_dense(value)\n",
    "\n",
    "    # split heads\n",
    "    query = self.split_heads(query, batch_size)\n",
    "    key = self.split_heads(key, batch_size)\n",
    "    value = self.split_heads(value, batch_size)\n",
    "\n",
    "    scaled_attention = scaled_dot_product_attention(query, key, value, mask)\n",
    "\n",
    "    scaled_attention = tf.transpose(scaled_attention, perm=[0, 2, 1, 3])\n",
    "\n",
    "    concat_attention = tf.reshape(scaled_attention,\n",
    "                                  (batch_size, -1, self.d_model))\n",
    "\n",
    "    outputs = self.dense(concat_attention)\n",
    "\n",
    "    return outputs"
   ]
  },
  {
   "cell_type": "code",
   "execution_count": 8,
   "metadata": {
    "id": "8hF4xYdLcSQA",
    "tags": []
   },
   "outputs": [],
   "source": [
    "#run\n",
    "class PositionalEncoding(tf.keras.layers.Layer):\n",
    "\n",
    "  def __init__(self, position, d_model):\n",
    "    super(PositionalEncoding, self).__init__()\n",
    "    self.pos_encoding = self.positional_encoding(position, d_model)\n",
    "\n",
    "  def get_angles(self, position, i, d_model):\n",
    "    angles = 1 / tf.pow(10000, (2 * (i // 2)) / tf.cast(d_model, tf.float32))\n",
    "    return position * angles\n",
    "\n",
    "  def positional_encoding(self, position, d_model):\n",
    "    angle_rads = self.get_angles(\n",
    "        position=tf.range(position, dtype=tf.float32)[:, tf.newaxis],\n",
    "        i=tf.range(d_model, dtype=tf.float32)[tf.newaxis, :],\n",
    "        d_model=d_model)\n",
    "    # apply sin to even index in the array\n",
    "    sines = tf.math.sin(angle_rads[:, 0::2])\n",
    "    # apply cos to odd index in the array\n",
    "    cosines = tf.math.cos(angle_rads[:, 1::2])\n",
    "\n",
    "    pos_encoding = tf.concat([sines, cosines], axis=-1)\n",
    "    pos_encoding = pos_encoding[tf.newaxis, ...]\n",
    "    return tf.cast(pos_encoding, tf.float32)\n",
    "\n",
    "  def call(self, inputs):\n",
    "    return inputs + self.pos_encoding[:, :tf.shape(inputs)[1], :]"
   ]
  },
  {
   "cell_type": "code",
   "execution_count": 9,
   "metadata": {
    "id": "j7ewC3iBcSSo",
    "tags": []
   },
   "outputs": [],
   "source": [
    "#run\n",
    "def encoder_layer(units, d_model, num_heads, dropout,name=\"encoder_layer\"):\n",
    "  inputs = tf.keras.Input(shape=(None,d_model ), name=\"inputs\")\n",
    "  padding_mask = tf.keras.Input(shape=(1, 1, None), name=\"padding_mask\")\n",
    "  print(padding_mask)\n",
    "\n",
    "  attention1 = MultiHeadAttention(\n",
    "      d_model, num_heads, name=\"attention1\")({\n",
    "          'query': inputs,\n",
    "          'key': inputs,\n",
    "          'value': inputs,\n",
    "          'mask': padding_mask\n",
    "      })\n",
    "  attention1 = tf.keras.layers.Dropout(rate=dropout)(attention1)\n",
    "  attention1 = tf.keras.layers.LayerNormalization(\n",
    "      epsilon=1e-6)(inputs + attention1)\n",
    "    \n",
    "  attention2 = MultiHeadAttention(\n",
    "      d_model, num_heads, name=\"attention2\")({\n",
    "          'query': inputs,\n",
    "          'key': inputs,\n",
    "          'value': inputs,\n",
    "          'mask': padding_mask\n",
    "      })\n",
    "  attention2 = tf.keras.layers.Dropout(rate=dropout)(attention2)\n",
    "  attention2 = tf.keras.layers.LayerNormalization(\n",
    "      epsilon=1e-6)(inputs + attention2)\n",
    "\n",
    "  attention3 = MultiHeadAttention(\n",
    "      d_model, num_heads, name=\"attention3\")({\n",
    "          'query': attention1,\n",
    "          'key': attention2,\n",
    "          'value': attention1,\n",
    "          'mask': padding_mask\n",
    "      })\n",
    "  attention3 = tf.keras.layers.Dropout(rate=dropout)(attention3)\n",
    "  attention3 = tf.keras.layers.LayerNormalization(\n",
    "      epsilon=1e-6)(inputs + attention3)\n",
    "  outputs = tf.keras.layers.Dense(units=units, activation='relu')(attention3)\n",
    "  outputs = tf.keras.layers.Dense(units=d_model)(outputs)\n",
    "  outputs = tf.keras.layers.Dropout(rate=dropout)(outputs)\n",
    "  # outputs = tf.keras.layers.LayerNormalization(\n",
    "  #     epsilon=1e-6)(attention3 + outputs)\n",
    "  outputs = tf.keras.layers.LayerNormalization(\n",
    "      epsilon=1e-6)(attention3)\n",
    "\n",
    "  return tf.keras.Model(\n",
    "      inputs=[inputs, padding_mask], outputs=outputs, name=name)"
   ]
  },
  {
   "cell_type": "code",
   "execution_count": 10,
   "metadata": {
    "id": "_8IFloblcSWJ",
    "tags": []
   },
   "outputs": [],
   "source": [
    "#run\n",
    "def encoder(time_steps,\n",
    "            num_layers,\n",
    "            units,\n",
    "            d_model,\n",
    "            num_heads,\n",
    "            dropout,\n",
    "            projection,\n",
    "            name=\"encoder\"):\n",
    "  inputs = tf.keras.Input(shape=(None,d_model), name=\"inputs\")\n",
    "  padding_mask = tf.keras.Input(shape=(1, 1, None), name=\"padding_mask\")\n",
    "\n",
    "  if projection=='linear':\n",
    "    ## We implement a linear projection based on Very Deep Self-Attention Networks for End-to-End Speech Recognition. Retrieved from https://arxiv.org/abs/1904.13377\n",
    "    projection=tf.keras.layers.Dense( d_model,use_bias=True, activation='linear')(inputs)\n",
    "    print('linear')\n",
    "\n",
    "  else:\n",
    "    projection=tf.identity(inputs)\n",
    "    print('none')\n",
    "\n",
    "  projection *= tf.math.sqrt(tf.cast(d_model, tf.float32))\n",
    "  projection = PositionalEncoding(time_steps, d_model)(projection)\n",
    "\n",
    "  outputs = tf.keras.layers.Dropout(rate=dropout)(projection)\n",
    "\n",
    "  for i in range(num_layers):\n",
    "    outputs = encoder_layer(\n",
    "        units=units,\n",
    "        d_model=d_model,\n",
    "        num_heads=num_heads,\n",
    "        dropout=dropout,\n",
    "        name=\"encoder_layer_{}\".format(i),\n",
    "    )([outputs, padding_mask])\n",
    "\n",
    "  return tf.keras.Model(\n",
    "      inputs=[inputs, padding_mask], outputs=outputs, name=name)"
   ]
  },
  {
   "cell_type": "code",
   "execution_count": 11,
   "metadata": {
    "id": "NXgJh2PpcIiK",
    "tags": []
   },
   "outputs": [],
   "source": [
    "#run\n",
    "def transformer(time_steps,\n",
    "                num_layers,\n",
    "                units,\n",
    "                d_model,\n",
    "                num_heads,\n",
    "                dropout,\n",
    "                output_size,\n",
    "                projection,\n",
    "                name=\"transformer\"):\n",
    "  inputs = tf.keras.Input(shape=(None,d_model), name=\"inputs\")\n",
    "\n",
    "  enc_padding_mask = tf.keras.layers.Lambda(\n",
    "      create_padding_mask, output_shape=(1, 1, None),\n",
    "      name='enc_padding_mask')(tf.dtypes.cast(\n",
    "\n",
    "      #Like our input has a dimension of length X d_model but the masking is applied to a vector\n",
    "      # We get the sum for each row and result is a vector. So, if result is 0 it is because in that position was masked\n",
    "      tf.math.reduce_sum(\n",
    "      inputs,\n",
    "      axis=2,\n",
    "      keepdims=False,\n",
    "      name=None\n",
    "  ), tf.int32))\n",
    "\n",
    "  enc_outputs = encoder(\n",
    "      time_steps=time_steps,\n",
    "      num_layers=num_layers,\n",
    "      units=units,\n",
    "      d_model=d_model,\n",
    "      num_heads=num_heads,\n",
    "      dropout=dropout,\n",
    "      projection=projection,\n",
    "      name='encoder'\n",
    "  )(inputs=[inputs, enc_padding_mask])\n",
    "\n",
    "  #We reshape for feeding our FC in the next step\n",
    "  outputs = tf.reshape(enc_outputs,(-1,time_steps*d_model))\n",
    "\n",
    "  #We predict our class\n",
    "  outputs = tf.keras.layers.Dense(units=output_size,use_bias=True, name=\"outputs\")(outputs)\n",
    "\n",
    "  return tf.keras.Model(inputs=[inputs], outputs=outputs, name='audio_class')"
   ]
  },
  {
   "cell_type": "code",
   "execution_count": 12,
   "metadata": {
    "id": "9H-kkyuLcbPZ",
    "tags": []
   },
   "outputs": [],
   "source": [
    "#run\n",
    "# num_batch_size = 32\n",
    "# num_epochs = 500\n",
    "# N_SPLIT = 10\n",
    "# num_labels=5\n",
    "# num_classes=6"
   ]
  },
  {
   "cell_type": "code",
   "execution_count": 13,
   "metadata": {
    "colab": {
     "base_uri": "https://localhost:8080/"
    },
    "id": "u4Iw3KzecbRt",
    "outputId": "0ffe72e2-2c24-4cbd-9441-a681fcf507e4",
    "tags": []
   },
   "outputs": [
    {
     "data": {
      "text/plain": [
       "(2075, 298)"
      ]
     },
     "execution_count": 13,
     "metadata": {},
     "output_type": "execute_result"
    }
   ],
   "source": [
    "#ajit\n",
    "# df = pd.read_csv('/content/drive/MyDrive/DatabaseDistorted/final_tii_all_finaldata/features/2075_concatenate5_spectral2.csv')\n",
    "# dm\n",
    "# df = pd.read_csv('./DatabaseDistorted/final_tii_all_finaldata/features/2075_concatenate_dm.csv')\n",
    "df = pd.read_csv('./audio_features.csv')\n",
    "\n",
    "\n",
    "# df = pd.read_csv('/content/drive/MyDrive/DatabaseDistorted/final_tii_all_finaldata/features/melspectogram_mean_newdm_2075.csv')\n",
    "# df = pd.read_csv('/content/drive/MyDrive/DatabaseDistorted/final_tii_all_finaldata/features/chroma_cqt_simple_mean_newdm_2075.csv')\n",
    "# df = pd.read_csv('/content/drive/MyDrive/DatabaseDistorted/final_tii_all_finaldata/features/mfcc_simple_mean_newdm_2075.csv')\n",
    "# df = pd.read_csv('/content/drive/MyDrive/DatabaseDistorted/final_tii_all_finaldata/features/spectral_centroid_meandm_2075_200.csv')\n",
    "\n",
    "df = df.drop(['Unnamed: 0'], axis = 1)\n",
    "df = df.dropna()\n",
    "df.shape"
   ]
  },
  {
   "cell_type": "code",
   "execution_count": 14,
   "metadata": {
    "colab": {
     "base_uri": "https://localhost:8080/"
    },
    "id": "2HrbtbLXcbTx",
    "outputId": "7a1af2ba-848e-44d8-d239-a2518c22f9bd",
    "tags": []
   },
   "outputs": [
    {
     "name": "stdout",
     "output_type": "stream",
     "text": [
      "(415, 298)\n",
      "(415, 298)\n",
      "(415, 298)\n",
      "(415, 298)\n",
      "(415, 298)\n"
     ]
    }
   ],
   "source": [
    "np.random.seed(42)\n",
    "siz=415\n",
    "df_read = df.copy()\n",
    "df1 = df_read.sample(siz)\n",
    "df_read = df_read.drop(df1.index)\n",
    "df2 = df_read.sample(siz)\n",
    "df_read = df_read.drop(df2.index)\n",
    "df3 = df_read.sample(siz)\n",
    "df_read = df_read.drop(df3.index)\n",
    "df4 = df_read.sample(siz)\n",
    "df_read = df_read.drop(df4.index)\n",
    "df5 = df_read.copy()\n",
    "\n",
    "print(df1.shape)\n",
    "print(df2.shape)\n",
    "print(df3.shape)\n",
    "print(df4.shape)\n",
    "print(df5.shape)"
   ]
  },
  {
   "cell_type": "code",
   "execution_count": 15,
   "metadata": {
    "colab": {
     "base_uri": "https://localhost:8080/"
    },
    "id": "_j19bgqpcbWT",
    "outputId": "e4e9f119-b436-44fe-ab74-572cf6d7bca3",
    "tags": []
   },
   "outputs": [
    {
     "name": "stdout",
     "output_type": "stream",
     "text": [
      "Index([ 881,  453, 2004, 1353,  281,  941, 1185, 1159, 1138,  599,\n",
      "       ...\n",
      "        834, 1730,  353, 1345, 1190, 1375,  185,  701, 1671, 1982],\n",
      "      dtype='int64', length=415)\n"
     ]
    }
   ],
   "source": [
    "q = list(df1.index)+list(df2.index)+list(df3.index)+list(df4.index)+list(df5.index)\n",
    "print(df1.index)"
   ]
  },
  {
   "cell_type": "code",
   "execution_count": 16,
   "metadata": {
    "tags": []
   },
   "outputs": [
    {
     "data": {
      "text/html": [
       "<div>\n",
       "<style scoped>\n",
       "    .dataframe tbody tr th:only-of-type {\n",
       "        vertical-align: middle;\n",
       "    }\n",
       "\n",
       "    .dataframe tbody tr th {\n",
       "        vertical-align: top;\n",
       "    }\n",
       "\n",
       "    .dataframe thead th {\n",
       "        text-align: right;\n",
       "    }\n",
       "</style>\n",
       "<table border=\"1\" class=\"dataframe\">\n",
       "  <thead>\n",
       "    <tr style=\"text-align: right;\">\n",
       "      <th></th>\n",
       "      <th>0</th>\n",
       "      <th>1</th>\n",
       "      <th>2</th>\n",
       "      <th>3</th>\n",
       "      <th>4</th>\n",
       "      <th>5</th>\n",
       "      <th>6</th>\n",
       "      <th>7</th>\n",
       "      <th>8</th>\n",
       "      <th>9</th>\n",
       "      <th>...</th>\n",
       "      <th>288</th>\n",
       "      <th>289</th>\n",
       "      <th>290</th>\n",
       "      <th>291</th>\n",
       "      <th>292</th>\n",
       "      <th>293</th>\n",
       "      <th>294</th>\n",
       "      <th>295</th>\n",
       "      <th>296</th>\n",
       "      <th>class</th>\n",
       "    </tr>\n",
       "  </thead>\n",
       "  <tbody>\n",
       "    <tr>\n",
       "      <th>881</th>\n",
       "      <td>115.100464</td>\n",
       "      <td>116.435690</td>\n",
       "      <td>-33.895737</td>\n",
       "      <td>21.440712</td>\n",
       "      <td>-8.445481</td>\n",
       "      <td>-2.221351</td>\n",
       "      <td>-5.662595</td>\n",
       "      <td>-5.307188</td>\n",
       "      <td>-3.395119</td>\n",
       "      <td>1.959972</td>\n",
       "      <td>...</td>\n",
       "      <td>1924.734414</td>\n",
       "      <td>2214.323973</td>\n",
       "      <td>2369.313522</td>\n",
       "      <td>1993.016083</td>\n",
       "      <td>1656.398893</td>\n",
       "      <td>1712.388520</td>\n",
       "      <td>1877.955538</td>\n",
       "      <td>2202.385976</td>\n",
       "      <td>2197.057367</td>\n",
       "      <td>1.61</td>\n",
       "    </tr>\n",
       "    <tr>\n",
       "      <th>453</th>\n",
       "      <td>-81.505840</td>\n",
       "      <td>93.929110</td>\n",
       "      <td>2.407967</td>\n",
       "      <td>5.197178</td>\n",
       "      <td>-4.273181</td>\n",
       "      <td>15.114481</td>\n",
       "      <td>-12.457763</td>\n",
       "      <td>-2.422184</td>\n",
       "      <td>-10.028605</td>\n",
       "      <td>11.997586</td>\n",
       "      <td>...</td>\n",
       "      <td>2165.990403</td>\n",
       "      <td>2121.735482</td>\n",
       "      <td>2169.657425</td>\n",
       "      <td>2299.472756</td>\n",
       "      <td>2309.287640</td>\n",
       "      <td>2272.999651</td>\n",
       "      <td>2427.676392</td>\n",
       "      <td>2451.911800</td>\n",
       "      <td>2408.656902</td>\n",
       "      <td>1.15</td>\n",
       "    </tr>\n",
       "    <tr>\n",
       "      <th>2004</th>\n",
       "      <td>-301.374900</td>\n",
       "      <td>286.829930</td>\n",
       "      <td>-56.174410</td>\n",
       "      <td>-25.532795</td>\n",
       "      <td>53.723870</td>\n",
       "      <td>-20.187690</td>\n",
       "      <td>-24.548950</td>\n",
       "      <td>25.045732</td>\n",
       "      <td>-8.054552</td>\n",
       "      <td>-20.254957</td>\n",
       "      <td>...</td>\n",
       "      <td>902.227666</td>\n",
       "      <td>895.068748</td>\n",
       "      <td>792.717657</td>\n",
       "      <td>816.468468</td>\n",
       "      <td>821.499510</td>\n",
       "      <td>797.085182</td>\n",
       "      <td>830.891295</td>\n",
       "      <td>837.543881</td>\n",
       "      <td>856.526688</td>\n",
       "      <td>1.76</td>\n",
       "    </tr>\n",
       "    <tr>\n",
       "      <th>1353</th>\n",
       "      <td>-354.598450</td>\n",
       "      <td>259.105130</td>\n",
       "      <td>120.287290</td>\n",
       "      <td>-6.172213</td>\n",
       "      <td>-55.095108</td>\n",
       "      <td>-30.534496</td>\n",
       "      <td>13.320685</td>\n",
       "      <td>27.653042</td>\n",
       "      <td>7.574259</td>\n",
       "      <td>-16.686695</td>\n",
       "      <td>...</td>\n",
       "      <td>541.573084</td>\n",
       "      <td>527.706392</td>\n",
       "      <td>516.779659</td>\n",
       "      <td>516.765627</td>\n",
       "      <td>550.828158</td>\n",
       "      <td>547.339139</td>\n",
       "      <td>551.372349</td>\n",
       "      <td>539.345737</td>\n",
       "      <td>516.670265</td>\n",
       "      <td>1.24</td>\n",
       "    </tr>\n",
       "    <tr>\n",
       "      <th>281</th>\n",
       "      <td>13.566546</td>\n",
       "      <td>20.589693</td>\n",
       "      <td>16.374050</td>\n",
       "      <td>13.352259</td>\n",
       "      <td>7.065914</td>\n",
       "      <td>7.064869</td>\n",
       "      <td>3.771653</td>\n",
       "      <td>3.909107</td>\n",
       "      <td>1.383886</td>\n",
       "      <td>4.150478</td>\n",
       "      <td>...</td>\n",
       "      <td>4835.892625</td>\n",
       "      <td>4971.914880</td>\n",
       "      <td>5068.061026</td>\n",
       "      <td>4916.267485</td>\n",
       "      <td>4950.245484</td>\n",
       "      <td>5003.574506</td>\n",
       "      <td>4919.739213</td>\n",
       "      <td>4890.999577</td>\n",
       "      <td>5021.892732</td>\n",
       "      <td>1.08</td>\n",
       "    </tr>\n",
       "  </tbody>\n",
       "</table>\n",
       "<p>5 rows × 298 columns</p>\n",
       "</div>"
      ],
      "text/plain": [
       "               0           1           2          3          4          5  \\\n",
       "881   115.100464  116.435690  -33.895737  21.440712  -8.445481  -2.221351   \n",
       "453   -81.505840   93.929110    2.407967   5.197178  -4.273181  15.114481   \n",
       "2004 -301.374900  286.829930  -56.174410 -25.532795  53.723870 -20.187690   \n",
       "1353 -354.598450  259.105130  120.287290  -6.172213 -55.095108 -30.534496   \n",
       "281    13.566546   20.589693   16.374050  13.352259   7.065914   7.064869   \n",
       "\n",
       "              6          7          8          9  ...          288  \\\n",
       "881   -5.662595  -5.307188  -3.395119   1.959972  ...  1924.734414   \n",
       "453  -12.457763  -2.422184 -10.028605  11.997586  ...  2165.990403   \n",
       "2004 -24.548950  25.045732  -8.054552 -20.254957  ...   902.227666   \n",
       "1353  13.320685  27.653042   7.574259 -16.686695  ...   541.573084   \n",
       "281    3.771653   3.909107   1.383886   4.150478  ...  4835.892625   \n",
       "\n",
       "              289          290          291          292          293  \\\n",
       "881   2214.323973  2369.313522  1993.016083  1656.398893  1712.388520   \n",
       "453   2121.735482  2169.657425  2299.472756  2309.287640  2272.999651   \n",
       "2004   895.068748   792.717657   816.468468   821.499510   797.085182   \n",
       "1353   527.706392   516.779659   516.765627   550.828158   547.339139   \n",
       "281   4971.914880  5068.061026  4916.267485  4950.245484  5003.574506   \n",
       "\n",
       "              294          295          296  class  \n",
       "881   1877.955538  2202.385976  2197.057367   1.61  \n",
       "453   2427.676392  2451.911800  2408.656902   1.15  \n",
       "2004   830.891295   837.543881   856.526688   1.76  \n",
       "1353   551.372349   539.345737   516.670265   1.24  \n",
       "281   4919.739213  4890.999577  5021.892732   1.08  \n",
       "\n",
       "[5 rows x 298 columns]"
      ]
     },
     "execution_count": 16,
     "metadata": {},
     "output_type": "execute_result"
    }
   ],
   "source": [
    "train = pd.concat([df1,df2,df3,df4], axis=0)\n",
    "train = train.dropna()\n",
    "train.head()"
   ]
  },
  {
   "cell_type": "code",
   "execution_count": 17,
   "metadata": {
    "colab": {
     "base_uri": "https://localhost:8080/"
    },
    "id": "uT0Jrfa5cbZv",
    "outputId": "765d52d9-b8e2-4f6d-cd94-261bb7f7c39d",
    "tags": []
   },
   "outputs": [
    {
     "name": "stdout",
     "output_type": "stream",
     "text": [
      "1\n",
      "(1660, 1, 296)\n",
      "d_model 296\n",
      "num_heads 4\n",
      "TIME STEPS 1\n",
      "linear\n"
     ]
    },
    {
     "name": "stderr",
     "output_type": "stream",
     "text": [
      "2023-10-15 22:40:06.179230: I tensorflow/compiler/xla/stream_executor/cuda/cuda_gpu_executor.cc:995] successful NUMA node read from SysFS had negative value (-1), but there must be at least one NUMA node, so returning NUMA node zero. See more at https://github.com/torvalds/linux/blob/v6.0/Documentation/ABI/testing/sysfs-bus-pci#L344-L355\n",
      "2023-10-15 22:40:06.181914: W tensorflow/core/common_runtime/gpu/gpu_device.cc:1960] Cannot dlopen some GPU libraries. Please make sure the missing libraries mentioned above are installed properly if you would like to use GPU. Follow the guide at https://www.tensorflow.org/install/gpu for how to download and setup the required libraries for your platform.\n",
      "Skipping registering GPU devices...\n"
     ]
    },
    {
     "name": "stdout",
     "output_type": "stream",
     "text": [
      "KerasTensor(type_spec=TensorSpec(shape=(None, 1, 1, None), dtype=tf.float32, name='padding_mask'), name='padding_mask', description=\"created by layer 'padding_mask'\")\n",
      "KerasTensor(type_spec=TensorSpec(shape=(None, 1, 1, None), dtype=tf.float32, name='padding_mask'), name='padding_mask', description=\"created by layer 'padding_mask'\")\n",
      "KerasTensor(type_spec=TensorSpec(shape=(None, 1, 1, None), dtype=tf.float32, name='padding_mask'), name='padding_mask', description=\"created by layer 'padding_mask'\")\n",
      "KerasTensor(type_spec=TensorSpec(shape=(None, 1, 1, None), dtype=tf.float32, name='padding_mask'), name='padding_mask', description=\"created by layer 'padding_mask'\")\n",
      "Epoch 1/1000\n",
      "52/52 [==============================] - 14s 56ms/step - loss: 6.2967 - val_loss: 1.9127\n",
      "Epoch 2/1000\n",
      "52/52 [==============================] - 2s 29ms/step - loss: 2.3748 - val_loss: 2.1248\n",
      "Epoch 3/1000\n",
      "52/52 [==============================] - 1s 29ms/step - loss: 2.3751 - val_loss: 2.0158\n",
      "Epoch 4/1000\n",
      "52/52 [==============================] - 2s 29ms/step - loss: 2.2608 - val_loss: 1.9753\n",
      "Epoch 5/1000\n",
      "52/52 [==============================] - 1s 29ms/step - loss: 2.2557 - val_loss: 1.9665\n",
      "Epoch 6/1000\n",
      "52/52 [==============================] - 1s 28ms/step - loss: 2.1191 - val_loss: 1.9394\n",
      "Epoch 7/1000\n",
      " 1/52 [..............................] - ETA: 1s - loss: 2.3953"
     ]
    },
    {
     "ename": "KeyboardInterrupt",
     "evalue": "",
     "output_type": "error",
     "traceback": [
      "\u001b[0;31m---------------------------------------------------------------------------\u001b[0m",
      "\u001b[0;31mKeyboardInterrupt\u001b[0m                         Traceback (most recent call last)",
      "\u001b[1;32m/home/ashutosh/Desktop/ugmqa_project/notebooks/cross_attention_with_4_heads.ipynb Cell 17\u001b[0m line \u001b[0;36m5\n\u001b[1;32m     <a href='vscode-notebook-cell:/home/ashutosh/Desktop/ugmqa_project/notebooks/cross_attention_with_4_heads.ipynb#X22sZmlsZQ%3D%3D?line=44'>45</a>\u001b[0m model\u001b[39m.\u001b[39mcompile(optimizer\u001b[39m=\u001b[39mtf\u001b[39m.\u001b[39mkeras\u001b[39m.\u001b[39moptimizers\u001b[39m.\u001b[39mAdam(\u001b[39m0.000003\u001b[39m), loss\u001b[39m=\u001b[39m\u001b[39m'\u001b[39m\u001b[39mmse\u001b[39m\u001b[39m'\u001b[39m)\n\u001b[1;32m     <a href='vscode-notebook-cell:/home/ashutosh/Desktop/ugmqa_project/notebooks/cross_attention_with_4_heads.ipynb#X22sZmlsZQ%3D%3D?line=45'>46</a>\u001b[0m \u001b[39m# model.compile(optimizer=tf.keras.optimizers.SGD(0.01), loss='mae')\u001b[39;00m\n\u001b[1;32m     <a href='vscode-notebook-cell:/home/ashutosh/Desktop/ugmqa_project/notebooks/cross_attention_with_4_heads.ipynb#X22sZmlsZQ%3D%3D?line=46'>47</a>\u001b[0m \u001b[39m#\u001b[39;00m\n\u001b[1;32m     <a href='vscode-notebook-cell:/home/ashutosh/Desktop/ugmqa_project/notebooks/cross_attention_with_4_heads.ipynb#X22sZmlsZQ%3D%3D?line=47'>48</a>\u001b[0m \u001b[39m# callback = tf.keras.callbacks.EarlyStopping(monitor = 'val_loss', patience=80, restore_best_weights=True)\u001b[39;00m\n\u001b[1;32m     <a href='vscode-notebook-cell:/home/ashutosh/Desktop/ugmqa_project/notebooks/cross_attention_with_4_heads.ipynb#X22sZmlsZQ%3D%3D?line=48'>49</a>\u001b[0m \u001b[39m# history = model.fit(X_train,Y_train, epochs=1000, validation_data=(X_val, Y_val), callbacks=[callback])\u001b[39;00m\n\u001b[0;32m---> <a href='vscode-notebook-cell:/home/ashutosh/Desktop/ugmqa_project/notebooks/cross_attention_with_4_heads.ipynb#X22sZmlsZQ%3D%3D?line=49'>50</a>\u001b[0m history \u001b[39m=\u001b[39m model\u001b[39m.\u001b[39;49mfit(X_train,Y_train, epochs\u001b[39m=\u001b[39;49m\u001b[39m1000\u001b[39;49m, validation_data\u001b[39m=\u001b[39;49m(X_val, Y_val))\n",
      "File \u001b[0;32m~/Desktop/ugmqa_project/venv/lib/python3.8/site-packages/keras/src/utils/traceback_utils.py:65\u001b[0m, in \u001b[0;36mfilter_traceback.<locals>.error_handler\u001b[0;34m(*args, **kwargs)\u001b[0m\n\u001b[1;32m     63\u001b[0m filtered_tb \u001b[39m=\u001b[39m \u001b[39mNone\u001b[39;00m\n\u001b[1;32m     64\u001b[0m \u001b[39mtry\u001b[39;00m:\n\u001b[0;32m---> 65\u001b[0m     \u001b[39mreturn\u001b[39;00m fn(\u001b[39m*\u001b[39;49margs, \u001b[39m*\u001b[39;49m\u001b[39m*\u001b[39;49mkwargs)\n\u001b[1;32m     66\u001b[0m \u001b[39mexcept\u001b[39;00m \u001b[39mException\u001b[39;00m \u001b[39mas\u001b[39;00m e:\n\u001b[1;32m     67\u001b[0m     filtered_tb \u001b[39m=\u001b[39m _process_traceback_frames(e\u001b[39m.\u001b[39m__traceback__)\n",
      "File \u001b[0;32m~/Desktop/ugmqa_project/venv/lib/python3.8/site-packages/keras/src/engine/training.py:1742\u001b[0m, in \u001b[0;36mModel.fit\u001b[0;34m(self, x, y, batch_size, epochs, verbose, callbacks, validation_split, validation_data, shuffle, class_weight, sample_weight, initial_epoch, steps_per_epoch, validation_steps, validation_batch_size, validation_freq, max_queue_size, workers, use_multiprocessing)\u001b[0m\n\u001b[1;32m   1734\u001b[0m \u001b[39mwith\u001b[39;00m tf\u001b[39m.\u001b[39mprofiler\u001b[39m.\u001b[39mexperimental\u001b[39m.\u001b[39mTrace(\n\u001b[1;32m   1735\u001b[0m     \u001b[39m\"\u001b[39m\u001b[39mtrain\u001b[39m\u001b[39m\"\u001b[39m,\n\u001b[1;32m   1736\u001b[0m     epoch_num\u001b[39m=\u001b[39mepoch,\n\u001b[0;32m   (...)\u001b[0m\n\u001b[1;32m   1739\u001b[0m     _r\u001b[39m=\u001b[39m\u001b[39m1\u001b[39m,\n\u001b[1;32m   1740\u001b[0m ):\n\u001b[1;32m   1741\u001b[0m     callbacks\u001b[39m.\u001b[39mon_train_batch_begin(step)\n\u001b[0;32m-> 1742\u001b[0m     tmp_logs \u001b[39m=\u001b[39m \u001b[39mself\u001b[39;49m\u001b[39m.\u001b[39;49mtrain_function(iterator)\n\u001b[1;32m   1743\u001b[0m     \u001b[39mif\u001b[39;00m data_handler\u001b[39m.\u001b[39mshould_sync:\n\u001b[1;32m   1744\u001b[0m         context\u001b[39m.\u001b[39masync_wait()\n",
      "File \u001b[0;32m~/Desktop/ugmqa_project/venv/lib/python3.8/site-packages/tensorflow/python/util/traceback_utils.py:150\u001b[0m, in \u001b[0;36mfilter_traceback.<locals>.error_handler\u001b[0;34m(*args, **kwargs)\u001b[0m\n\u001b[1;32m    148\u001b[0m filtered_tb \u001b[39m=\u001b[39m \u001b[39mNone\u001b[39;00m\n\u001b[1;32m    149\u001b[0m \u001b[39mtry\u001b[39;00m:\n\u001b[0;32m--> 150\u001b[0m   \u001b[39mreturn\u001b[39;00m fn(\u001b[39m*\u001b[39;49margs, \u001b[39m*\u001b[39;49m\u001b[39m*\u001b[39;49mkwargs)\n\u001b[1;32m    151\u001b[0m \u001b[39mexcept\u001b[39;00m \u001b[39mException\u001b[39;00m \u001b[39mas\u001b[39;00m e:\n\u001b[1;32m    152\u001b[0m   filtered_tb \u001b[39m=\u001b[39m _process_traceback_frames(e\u001b[39m.\u001b[39m__traceback__)\n",
      "File \u001b[0;32m~/Desktop/ugmqa_project/venv/lib/python3.8/site-packages/tensorflow/python/eager/polymorphic_function/polymorphic_function.py:825\u001b[0m, in \u001b[0;36mFunction.__call__\u001b[0;34m(self, *args, **kwds)\u001b[0m\n\u001b[1;32m    822\u001b[0m compiler \u001b[39m=\u001b[39m \u001b[39m\"\u001b[39m\u001b[39mxla\u001b[39m\u001b[39m\"\u001b[39m \u001b[39mif\u001b[39;00m \u001b[39mself\u001b[39m\u001b[39m.\u001b[39m_jit_compile \u001b[39melse\u001b[39;00m \u001b[39m\"\u001b[39m\u001b[39mnonXla\u001b[39m\u001b[39m\"\u001b[39m\n\u001b[1;32m    824\u001b[0m \u001b[39mwith\u001b[39;00m OptionalXlaContext(\u001b[39mself\u001b[39m\u001b[39m.\u001b[39m_jit_compile):\n\u001b[0;32m--> 825\u001b[0m   result \u001b[39m=\u001b[39m \u001b[39mself\u001b[39;49m\u001b[39m.\u001b[39;49m_call(\u001b[39m*\u001b[39;49margs, \u001b[39m*\u001b[39;49m\u001b[39m*\u001b[39;49mkwds)\n\u001b[1;32m    827\u001b[0m new_tracing_count \u001b[39m=\u001b[39m \u001b[39mself\u001b[39m\u001b[39m.\u001b[39mexperimental_get_tracing_count()\n\u001b[1;32m    828\u001b[0m without_tracing \u001b[39m=\u001b[39m (tracing_count \u001b[39m==\u001b[39m new_tracing_count)\n",
      "File \u001b[0;32m~/Desktop/ugmqa_project/venv/lib/python3.8/site-packages/tensorflow/python/eager/polymorphic_function/polymorphic_function.py:857\u001b[0m, in \u001b[0;36mFunction._call\u001b[0;34m(self, *args, **kwds)\u001b[0m\n\u001b[1;32m    854\u001b[0m   \u001b[39mself\u001b[39m\u001b[39m.\u001b[39m_lock\u001b[39m.\u001b[39mrelease()\n\u001b[1;32m    855\u001b[0m   \u001b[39m# In this case we have created variables on the first call, so we run the\u001b[39;00m\n\u001b[1;32m    856\u001b[0m   \u001b[39m# defunned version which is guaranteed to never create variables.\u001b[39;00m\n\u001b[0;32m--> 857\u001b[0m   \u001b[39mreturn\u001b[39;00m \u001b[39mself\u001b[39;49m\u001b[39m.\u001b[39;49m_no_variable_creation_fn(\u001b[39m*\u001b[39;49margs, \u001b[39m*\u001b[39;49m\u001b[39m*\u001b[39;49mkwds)  \u001b[39m# pylint: disable=not-callable\u001b[39;00m\n\u001b[1;32m    858\u001b[0m \u001b[39melif\u001b[39;00m \u001b[39mself\u001b[39m\u001b[39m.\u001b[39m_variable_creation_fn \u001b[39mis\u001b[39;00m \u001b[39mnot\u001b[39;00m \u001b[39mNone\u001b[39;00m:\n\u001b[1;32m    859\u001b[0m   \u001b[39m# Release the lock early so that multiple threads can perform the call\u001b[39;00m\n\u001b[1;32m    860\u001b[0m   \u001b[39m# in parallel.\u001b[39;00m\n\u001b[1;32m    861\u001b[0m   \u001b[39mself\u001b[39m\u001b[39m.\u001b[39m_lock\u001b[39m.\u001b[39mrelease()\n",
      "File \u001b[0;32m~/Desktop/ugmqa_project/venv/lib/python3.8/site-packages/tensorflow/python/eager/polymorphic_function/tracing_compiler.py:148\u001b[0m, in \u001b[0;36mTracingCompiler.__call__\u001b[0;34m(self, *args, **kwargs)\u001b[0m\n\u001b[1;32m    145\u001b[0m \u001b[39mwith\u001b[39;00m \u001b[39mself\u001b[39m\u001b[39m.\u001b[39m_lock:\n\u001b[1;32m    146\u001b[0m   (concrete_function,\n\u001b[1;32m    147\u001b[0m    filtered_flat_args) \u001b[39m=\u001b[39m \u001b[39mself\u001b[39m\u001b[39m.\u001b[39m_maybe_define_function(args, kwargs)\n\u001b[0;32m--> 148\u001b[0m \u001b[39mreturn\u001b[39;00m concrete_function\u001b[39m.\u001b[39;49m_call_flat(\n\u001b[1;32m    149\u001b[0m     filtered_flat_args, captured_inputs\u001b[39m=\u001b[39;49mconcrete_function\u001b[39m.\u001b[39;49mcaptured_inputs)\n",
      "File \u001b[0;32m~/Desktop/ugmqa_project/venv/lib/python3.8/site-packages/tensorflow/python/eager/polymorphic_function/monomorphic_function.py:1349\u001b[0m, in \u001b[0;36mConcreteFunction._call_flat\u001b[0;34m(self, args, captured_inputs)\u001b[0m\n\u001b[1;32m   1345\u001b[0m possible_gradient_type \u001b[39m=\u001b[39m gradients_util\u001b[39m.\u001b[39mPossibleTapeGradientTypes(args)\n\u001b[1;32m   1346\u001b[0m \u001b[39mif\u001b[39;00m (possible_gradient_type \u001b[39m==\u001b[39m gradients_util\u001b[39m.\u001b[39mPOSSIBLE_GRADIENT_TYPES_NONE\n\u001b[1;32m   1347\u001b[0m     \u001b[39mand\u001b[39;00m executing_eagerly):\n\u001b[1;32m   1348\u001b[0m   \u001b[39m# No tape is watching; skip to running the function.\u001b[39;00m\n\u001b[0;32m-> 1349\u001b[0m   \u001b[39mreturn\u001b[39;00m \u001b[39mself\u001b[39m\u001b[39m.\u001b[39m_build_call_outputs(\u001b[39mself\u001b[39;49m\u001b[39m.\u001b[39;49m_inference_function(\u001b[39m*\u001b[39;49margs))\n\u001b[1;32m   1350\u001b[0m forward_backward \u001b[39m=\u001b[39m \u001b[39mself\u001b[39m\u001b[39m.\u001b[39m_select_forward_and_backward_functions(\n\u001b[1;32m   1351\u001b[0m     args,\n\u001b[1;32m   1352\u001b[0m     possible_gradient_type,\n\u001b[1;32m   1353\u001b[0m     executing_eagerly)\n\u001b[1;32m   1354\u001b[0m forward_function, args_with_tangents \u001b[39m=\u001b[39m forward_backward\u001b[39m.\u001b[39mforward()\n",
      "File \u001b[0;32m~/Desktop/ugmqa_project/venv/lib/python3.8/site-packages/tensorflow/python/eager/polymorphic_function/atomic_function.py:196\u001b[0m, in \u001b[0;36mAtomicFunction.__call__\u001b[0;34m(self, *args)\u001b[0m\n\u001b[1;32m    194\u001b[0m \u001b[39mwith\u001b[39;00m record\u001b[39m.\u001b[39mstop_recording():\n\u001b[1;32m    195\u001b[0m   \u001b[39mif\u001b[39;00m \u001b[39mself\u001b[39m\u001b[39m.\u001b[39m_bound_context\u001b[39m.\u001b[39mexecuting_eagerly():\n\u001b[0;32m--> 196\u001b[0m     outputs \u001b[39m=\u001b[39m \u001b[39mself\u001b[39;49m\u001b[39m.\u001b[39;49m_bound_context\u001b[39m.\u001b[39;49mcall_function(\n\u001b[1;32m    197\u001b[0m         \u001b[39mself\u001b[39;49m\u001b[39m.\u001b[39;49mname,\n\u001b[1;32m    198\u001b[0m         \u001b[39mlist\u001b[39;49m(args),\n\u001b[1;32m    199\u001b[0m         \u001b[39mlen\u001b[39;49m(\u001b[39mself\u001b[39;49m\u001b[39m.\u001b[39;49mfunction_type\u001b[39m.\u001b[39;49mflat_outputs),\n\u001b[1;32m    200\u001b[0m     )\n\u001b[1;32m    201\u001b[0m   \u001b[39melse\u001b[39;00m:\n\u001b[1;32m    202\u001b[0m     outputs \u001b[39m=\u001b[39m make_call_op_in_graph(\u001b[39mself\u001b[39m, \u001b[39mlist\u001b[39m(args))\n",
      "File \u001b[0;32m~/Desktop/ugmqa_project/venv/lib/python3.8/site-packages/tensorflow/python/eager/context.py:1457\u001b[0m, in \u001b[0;36mContext.call_function\u001b[0;34m(self, name, tensor_inputs, num_outputs)\u001b[0m\n\u001b[1;32m   1455\u001b[0m cancellation_context \u001b[39m=\u001b[39m cancellation\u001b[39m.\u001b[39mcontext()\n\u001b[1;32m   1456\u001b[0m \u001b[39mif\u001b[39;00m cancellation_context \u001b[39mis\u001b[39;00m \u001b[39mNone\u001b[39;00m:\n\u001b[0;32m-> 1457\u001b[0m   outputs \u001b[39m=\u001b[39m execute\u001b[39m.\u001b[39;49mexecute(\n\u001b[1;32m   1458\u001b[0m       name\u001b[39m.\u001b[39;49mdecode(\u001b[39m\"\u001b[39;49m\u001b[39mutf-8\u001b[39;49m\u001b[39m\"\u001b[39;49m),\n\u001b[1;32m   1459\u001b[0m       num_outputs\u001b[39m=\u001b[39;49mnum_outputs,\n\u001b[1;32m   1460\u001b[0m       inputs\u001b[39m=\u001b[39;49mtensor_inputs,\n\u001b[1;32m   1461\u001b[0m       attrs\u001b[39m=\u001b[39;49mattrs,\n\u001b[1;32m   1462\u001b[0m       ctx\u001b[39m=\u001b[39;49m\u001b[39mself\u001b[39;49m,\n\u001b[1;32m   1463\u001b[0m   )\n\u001b[1;32m   1464\u001b[0m \u001b[39melse\u001b[39;00m:\n\u001b[1;32m   1465\u001b[0m   outputs \u001b[39m=\u001b[39m execute\u001b[39m.\u001b[39mexecute_with_cancellation(\n\u001b[1;32m   1466\u001b[0m       name\u001b[39m.\u001b[39mdecode(\u001b[39m\"\u001b[39m\u001b[39mutf-8\u001b[39m\u001b[39m\"\u001b[39m),\n\u001b[1;32m   1467\u001b[0m       num_outputs\u001b[39m=\u001b[39mnum_outputs,\n\u001b[0;32m   (...)\u001b[0m\n\u001b[1;32m   1471\u001b[0m       cancellation_manager\u001b[39m=\u001b[39mcancellation_context,\n\u001b[1;32m   1472\u001b[0m   )\n",
      "File \u001b[0;32m~/Desktop/ugmqa_project/venv/lib/python3.8/site-packages/tensorflow/python/eager/execute.py:53\u001b[0m, in \u001b[0;36mquick_execute\u001b[0;34m(op_name, num_outputs, inputs, attrs, ctx, name)\u001b[0m\n\u001b[1;32m     51\u001b[0m \u001b[39mtry\u001b[39;00m:\n\u001b[1;32m     52\u001b[0m   ctx\u001b[39m.\u001b[39mensure_initialized()\n\u001b[0;32m---> 53\u001b[0m   tensors \u001b[39m=\u001b[39m pywrap_tfe\u001b[39m.\u001b[39;49mTFE_Py_Execute(ctx\u001b[39m.\u001b[39;49m_handle, device_name, op_name,\n\u001b[1;32m     54\u001b[0m                                       inputs, attrs, num_outputs)\n\u001b[1;32m     55\u001b[0m \u001b[39mexcept\u001b[39;00m core\u001b[39m.\u001b[39m_NotOkStatusException \u001b[39mas\u001b[39;00m e:\n\u001b[1;32m     56\u001b[0m   \u001b[39mif\u001b[39;00m name \u001b[39mis\u001b[39;00m \u001b[39mnot\u001b[39;00m \u001b[39mNone\u001b[39;00m:\n",
      "\u001b[0;31mKeyboardInterrupt\u001b[0m: "
     ]
    }
   ],
   "source": [
    "#run call the transformer model\n",
    "#df_read = df.copy()\n",
    "#df_read=(df_read-df_read.mean())/df_read.std()\n",
    "from sklearn.model_selection import train_test_split\n",
    "\n",
    "#train, test = train_test_split(df_read, test_size=0.2)\n",
    "\n",
    "train = pd.concat([df1,df2,df3,df4], axis=0)\n",
    "test = df5.copy()\n",
    "\n",
    "Y_train = np.array(train['class'])\n",
    "X_train= np.array(train.drop(['0', 'class'],axis=1))\n",
    "X_train=X_train.reshape(X_train.shape[0], 1 , X_train.shape[1])\n",
    "print(X_train.shape[1])\n",
    "print(X_train.shape)\n",
    "\n",
    "Y_val=np.array(test['class'])\n",
    "X_val = np.array(test.drop(['0', 'class'],axis=1))\n",
    "X_val=X_val.reshape(X_val.shape[0], 1 , X_val.shape[1])\n",
    "NUM_LAYERS =  4\n",
    "\n",
    "D_MODEL = X_train.shape[2]\n",
    "print('d_model', D_MODEL)\n",
    "NUM_HEADS =  4\n",
    "print('num_heads', NUM_HEADS)\n",
    "UNITS =  2048\n",
    "DROPOUT = 0.1 #0.1\n",
    "TIME_STEPS= X_train.shape[1]\n",
    "print('TIME STEPS', TIME_STEPS)\n",
    "OUTPUT_SIZE=1\n",
    "batch_size=64\n",
    "\n",
    "model = transformer(\n",
    "  time_steps=TIME_STEPS,\n",
    "  num_layers=NUM_LAYERS,\n",
    "  units=UNITS,\n",
    "  d_model=D_MODEL,\n",
    "  num_heads=NUM_HEADS,\n",
    "  dropout=DROPOUT,\n",
    "  output_size=OUTPUT_SIZE,\n",
    "  projection='linear')\n",
    "\n",
    "#run\n",
    "# model.compile(optimizer=tf.keras.optimizers.Adam(0.00005), loss='mae') #org\n",
    "model.compile(optimizer=tf.keras.optimizers.Adam(0.000003), loss='mse')\n",
    "# model.compile(optimizer=tf.keras.optimizers.SGD(0.01), loss='mae')\n",
    "#\n",
    "# callback = tf.keras.callbacks.EarlyStopping(monitor = 'val_loss', patience=80, restore_best_weights=True)\n",
    "# history = model.fit(X_train,Y_train, epochs=1000, validation_data=(X_val, Y_val), callbacks=[callback])\n",
    "history = model.fit(X_train,Y_train, epochs=1000, validation_data=(X_val, Y_val))"
   ]
  },
  {
   "cell_type": "code",
   "execution_count": null,
   "metadata": {
    "id": "UxMyaAwpcqdf",
    "tags": []
   },
   "outputs": [
    {
     "name": "stdout",
     "output_type": "stream",
     "text": [
      "0.00037309520215873256\n",
      "(1660, 1, 176)\n",
      "(415, 1, 176)\n"
     ]
    }
   ],
   "source": [
    "#run\n",
    "import time\n",
    "st = time.time()\n",
    "p1 = np.array(model(X_val)).flatten()\n",
    "end = time.time()\n",
    "# print(end, st, len(p1))\n",
    "print((end-st)/len(p1))\n",
    "p2 = np.array(model(X_train)).flatten()\n",
    "print(X_train.shape)\n",
    "print(X_val.shape)"
   ]
  },
  {
   "cell_type": "code",
   "execution_count": null,
   "metadata": {
    "colab": {
     "base_uri": "https://localhost:8080/"
    },
    "id": "Say3gnZgi331",
    "outputId": "8cb662ec-46e3-428c-a3dc-5f3adeb2ff3a",
    "tags": []
   },
   "outputs": [
    {
     "name": "stdout",
     "output_type": "stream",
     "text": [
      "training\n",
      "[[1.         0.823123123]\n",
      " [0.821123123 1.        ]] SignificanceResult(statistic=0.7493208976225663, pvalue=4.2164156017597297e-299) 0.5537683816473855\n",
      "Validation\n",
      "0.82312231213213 0.8215096819894705 0.6192355721849291\n"
     ]
    }
   ],
   "source": [
    "from scipy import stats\n",
    "from scipy.stats import kendalltau\n",
    "print(\"training\")\n",
    "print(np.corrcoef(p2, Y_train), stats.spearmanr(p2, Y_train), kendalltau(p2,Y_train).correlation)\n",
    "print(\"Validation\")\n",
    "print(np.corrcoef(p1, Y_val)[1][0], stats.spearmanr(p1, Y_val).correlation, kendalltau(p1,Y_val).correlation)"
   ]
  },
  {
   "cell_type": "code",
   "execution_count": null,
   "metadata": {
    "colab": {
     "base_uri": "https://localhost:8080/"
    },
    "id": "ST5WiH4KoeOh",
    "outputId": "b995e4a2-4e2a-412c-9c59-0ee632503d82",
    "tags": []
   },
   "outputs": [
    {
     "data": {
      "text/plain": [
       "(1660, 1, 176)"
      ]
     },
     "execution_count": 96,
     "metadata": {},
     "output_type": "execute_result"
    }
   ],
   "source": [
    "X_train.shape"
   ]
  },
  {
   "cell_type": "code",
   "execution_count": null,
   "metadata": {
    "colab": {
     "base_uri": "https://localhost:8080/",
     "height": 279
    },
    "id": "ksXNLzMScqg6",
    "outputId": "218ba87c-4fe6-43c8-bf76-19bc5d9ce9b8",
    "tags": []
   },
   "outputs": [
    {
     "data": {
      "image/png": "[encoded data removed]",
      "text/plain": [
       "<Figure size 640x480 with 1 Axes>"
      ]
     },
     "metadata": {},
     "output_type": "display_data"
    }
   ],
   "source": [
    "#run\n",
    "import matplotlib.pyplot as plt\n",
    "\n",
    "plt.plot(history.history['loss'])\n",
    "plt.plot(history.history['val_loss'])\n",
    "plt.xlabel(\"Epochs\")\n",
    "plt.ylabel(\"Loss\")\n",
    "plt.savefig(\"audio_dm_3_featu_.jpg\")"
   ]
  }
 ],
 "metadata": {
  "colab": {
   "provenance": []
  },
  "kernelspec": {
   "display_name": "Python 3 (ipykernel)",
   "language": "python",
   "name": "python3"
  },
  "language_info": {
   "codemirror_mode": {
    "name": "ipython",
    "version": 3
   },
   "file_extension": ".py",
   "mimetype": "text/x-python",
   "name": "python",
   "nbconvert_exporter": "python",
   "pygments_lexer": "ipython3",
   "version": "3.8.13"
  }
 },
 "nbformat": 4,
 "nbformat_minor": 4
}
